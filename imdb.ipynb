{
 "cells": [
  {
   "cell_type": "code",
   "execution_count": 9,
   "id": "5b1ee84d",
   "metadata": {},
   "outputs": [
    {
     "name": "stdout",
     "output_type": "stream",
     "text": [
      "Scraping Romance...\n",
      " Saved: romance_movies.csv\n",
      "Scraping Action...\n",
      " Saved: action_movies.csv\n",
      "Scraping Music...\n",
      " Saved: music_movies.csv\n",
      "Scraping Comedy...\n",
      " Saved: comedy_movies.csv\n",
      "Scraping Animation...\n",
      " Saved: animation_movies.csv\n",
      "Scraping Adventure...\n",
      " Saved: adventure_movies.csv\n",
      "Scraping Crime...\n",
      " Saved: crime_movies.csv\n"
     ]
    }
   ],
   "source": [
    "import time\n",
    "import pandas as pd\n",
    "from selenium import webdriver\n",
    "from selenium.webdriver.common.by import By\n",
    "from selenium.webdriver.chrome.service import Service\n",
    "from selenium.webdriver.chrome.options import Options\n",
    "from selenium.webdriver.common.action_chains import ActionChains\n",
    "\n",
    "\n",
    "options = Options()\n",
    "# options.add_argument('--headless')  # Uncomment for headless mode\n",
    "driver = webdriver.Chrome(service=Service(), options=options)\n",
    "\n",
    "genre_urls = {\n",
    "    'Romance': 'https://www.imdb.com/search/title/?title_type=feature&release_date=2024-01-01,2024-12-31&genres=romance',\n",
    "    'Action': 'https://www.imdb.com/search/title/?title_type=feature&release_date=2024-01-01,2024-12-31&genres=action',\n",
    "    'Music': 'https://www.imdb.com/search/title/?title_type=feature&release_date=2024-01-01,2024-12-31&genres=music',\n",
    "    'Comedy': 'https://www.imdb.com/search/title/?title_type=feature&release_date=2024-01-01,2024-12-31&genres=comedy',\n",
    "    'Animation': 'https://www.imdb.com/search/title/?title_type=feature&release_date=2024-01-01,2024-12-31&genres=animation',\n",
    "    'Adventure': 'https://www.imdb.com/search/title/?title_type=feature&release_date=2024-01-01,2024-12-31&genres=adventure',\n",
    "    'Crime': 'https://www.imdb.com/search/title/?title_type=feature&release_date=2024-01-01,2024-12-31&genres=crime'\n",
    "}\n",
    "\n",
    "\n",
    "# --- FUNCTION TO CLICK \"LOAD MORE\" ---\n",
    "def click_load_more():\n",
    "    try:\n",
    "        load_more_button = driver.find_element(\n",
    "            By.XPATH,\n",
    "            '//button[.//span[contains(text(),\"Load more\")]]'\n",
    "        )\n",
    "        ActionChains(driver).move_to_element(load_more_button).perform()\n",
    "        load_more_button.click()\n",
    "        time.sleep(3)\n",
    "        return True\n",
    "    except:\n",
    "        return False\n",
    "\n",
    "\n",
    "# --- MAIN SCRAPER LOOP ---\n",
    "for genre, url in genre_urls.items():\n",
    "    print(f\"Scraping {genre}...\")\n",
    "    driver.get(url)\n",
    "    time.sleep(3)\n",
    "\n",
    "    # Keep clicking \"Load More\" if available\n",
    "    while click_load_more():\n",
    "        print(\"Clicked 'Load More'...\")\n",
    "\n",
    "    # Collect titles and summaries\n",
    "    titles = driver.find_elements(By.CSS_SELECTOR, 'h3.ipc-title__text')\n",
    "    summaries = driver.find_elements(By.CSS_SELECTOR, 'div.ipc-html-content-inner-div')\n",
    "\n",
    "    data = []\n",
    "    for i in range(min(len(titles), len(summaries))):\n",
    "        data.append({\n",
    "            'Movie Name': titles[i].text,\n",
    "            'Summary': summaries[i].text\n",
    "        })\n",
    "\n",
    "    if data:\n",
    "        df = pd.DataFrame(data)\n",
    "        file_name = genre.lower().replace(\" \", \"_\") + \"_movies.csv\"\n",
    "        df.to_csv(file_name, index=False, encoding=\"utf-8\")\n",
    "        print(f\" Saved: {file_name}\")\n",
    "    else:\n",
    "        print(f\" No data found for {genre}.\")\n",
    "\n",
    "driver.quit()\n",
    "\n"
   ]
  },
  {
   "cell_type": "code",
   "execution_count": 10,
   "id": "d8da29fa",
   "metadata": {},
   "outputs": [
    {
     "name": "stdout",
     "output_type": "stream",
     "text": [
      "           Movie Name                                            Summary\n",
      "0            1. Anora  A young stripper from Brooklyn meets and impul...\n",
      "1         2. Babygirl  A high-powered CEO puts her career and family ...\n",
      "2           3. Wicked  Elphaba, a young woman ridiculed for her green...\n",
      "3  4. On Swift Horses  Muriel and her husband Lee are about to begin ...\n",
      "4     5. The Fall Guy  A stuntman, fresh off an almost career-ending ...\n"
     ]
    }
   ],
   "source": [
    "\n",
    "# merge = pd.concat([\n",
    "#     pd.read_csv(\"Romance_movies.csv\"),\n",
    "#     pd.read_csv(\"action_movies.csv\"),\n",
    "#     pd.read_csv(\"music_movies.csv\"),\n",
    "#     pd.read_csv(\"comedy_movies.csv\"),\n",
    "#     pd.read_csv(\"animation_show_movies.csv\"),\n",
    "#     pd.read_csv(\"adventure_movies.csv\"),\n",
    "#     pd.read_csv(\"crime_movies.csv\")\n",
    "# ], ignore_index=True)\n",
    "\n",
    "\n",
    "\n",
    "# filepath: c:\\Users\\asus\\Desktop\\IMDB2\\imdb.ipynb\n",
    "# ...existing code...\n",
    "merge = pd.concat([\n",
    "    pd.read_csv(\"romance_movies.csv\"),\n",
    "    pd.read_csv(\"action_movies.csv\"),\n",
    "    pd.read_csv(\"music_movies.csv\"),\n",
    "    pd.read_csv(\"comedy_movies.csv\"),\n",
    "    pd.read_csv(\"animation_movies.csv\"),\n",
    "    pd.read_csv(\"adventure_movies.csv\"),\n",
    "    pd.read_csv(\"crime_movies.csv\")\n",
    "], ignore_index=True)\n",
    "# ...existing code...\n",
    "\n",
    "# Optional: save or view\n",
    "merge.to_csv(\"genre_movies.csv\", index=False)\n",
    "print(merge.head())"
   ]
  },
  {
   "cell_type": "code",
   "execution_count": 3,
   "id": "d7f0ee51",
   "metadata": {},
   "outputs": [
    {
     "name": "stdout",
     "output_type": "stream",
     "text": [
      "Movie Name    0\n",
      "Summary       0\n",
      "dtype: int64\n"
     ]
    }
   ],
   "source": [
    "\n",
    "# ...existing code...\n",
    "import pandas as pd\n",
    "\n",
    "df = pd.read_csv(\"genre_movies.csv\")\n",
    "print(df.isnull().sum())\n",
    "# ...existing code..."
   ]
  },
  {
   "cell_type": "code",
   "execution_count": null,
   "id": "37cff1b8",
   "metadata": {},
   "outputs": [
    {
     "name": "stdout",
     "output_type": "stream",
     "text": [
      "0    a young stripper from brooklyn meets and impul...\n",
      "1    a high powered ceo puts her career and family ...\n",
      "2    elphaba a young woman ridiculed for her green ...\n",
      "3    muriel and her husband lee are about to begin ...\n",
      "4    a stuntman fresh off an almost career ending a...\n",
      "5    after an unusual encounter a talented chef and...\n",
      "6    when a woman s first love suddenly reenters he...\n",
      "7    after escaping from an island prison where he ...\n",
      "8    sol ne a 40 year old single mom begins an unex...\n",
      "9    tashi a former tennis prodigy turned coach tra...\n",
      "Name: Summary, dtype: object\n"
     ]
    }
   ],
   "source": [
    "import re\n",
    "import pandas as pd\n",
    "\n",
    "\n",
    "\n",
    "# Function: remove non-alphanumeric + spaces\n",
    "def clean_non_alphanumeric(text):\n",
    "    return re.sub(r'\\s+', ' ', re.sub(r'[^a-zA-Z0-9 ]+', ' ', str(text))).strip()\n",
    "\n",
    "# Function: convert to lowercase\n",
    "def clean_lowercase(text):\n",
    "    return str(text).lower()\n",
    "\n",
    "# Apply cleaning to Summary column\n",
    "df[\"Summary\"] = df[\"Summary\"].apply(clean_non_alphanumeric).apply(clean_lowercase)\n",
    "\n",
    "# Preview first 10 cleaned rows\n",
    "print(df[\"Summary\"].head(10))\n"
   ]
  },
  {
   "cell_type": "code",
   "execution_count": null,
   "id": "c1c67b4a",
   "metadata": {},
   "outputs": [
    {
     "name": "stdout",
     "output_type": "stream",
     "text": [
      "                                             Summary  \\\n",
      "0  a young stripper from brooklyn meets and impul...   \n",
      "1  a high powered ceo puts her career and family ...   \n",
      "2  elphaba a young woman ridiculed for her green ...   \n",
      "3  muriel and her husband lee are about to begin ...   \n",
      "4  a stuntman fresh off an almost career ending a...   \n",
      "\n",
      "                                              Tokens  \n",
      "0  [a, young, stripper, from, brooklyn, meets, an...  \n",
      "1  [a, high, powered, ceo, puts, her, career, and...  \n",
      "2  [elphaba, a, young, woman, ridiculed, for, her...  \n",
      "3  [muriel, and, her, husband, lee, are, about, t...  \n",
      "4  [a, stuntman, fresh, off, an, almost, career, ...  \n"
     ]
    }
   ],
   "source": [
    "import nltk\n",
    "from nltk.tokenize import word_tokenize\n",
    "\n",
    "\n",
    "def tokenize_text(text):\n",
    "    return text.split()   # splits on spaces\n",
    "\n",
    "df[\"Tokens\"] = df[\"Summary\"].apply(tokenize_text)\n",
    "print(df[[\"Summary\", \"Tokens\"]].head(5))\n",
    "\n"
   ]
  },
  {
   "cell_type": "code",
   "execution_count": 14,
   "id": "e68fa1ed",
   "metadata": {},
   "outputs": [
    {
     "name": "stderr",
     "output_type": "stream",
     "text": [
      "[nltk_data] Downloading package wordnet to\n",
      "[nltk_data]     C:\\Users\\asus\\AppData\\Roaming\\nltk_data...\n",
      "[nltk_data] Downloading package omw-1.4 to\n",
      "[nltk_data]     C:\\Users\\asus\\AppData\\Roaming\\nltk_data...\n"
     ]
    },
    {
     "name": "stdout",
     "output_type": "stream",
     "text": [
      "                                              Tokens  \\\n",
      "0  [a, young, stripper, from, brooklyn, meets, an...   \n",
      "1  [a, high, powered, ceo, puts, her, career, and...   \n",
      "2  [elphaba, a, young, woman, ridiculed, for, her...   \n",
      "3  [muriel, and, her, husband, lee, are, about, t...   \n",
      "4  [a, stuntman, fresh, off, an, almost, career, ...   \n",
      "\n",
      "                                   Lemmatized_Tokens  \n",
      "0  [a, young, stripper, from, brooklyn, meet, and...  \n",
      "1  [a, high, powered, ceo, put, her, career, and,...  \n",
      "2  [elphaba, a, young, woman, ridiculed, for, her...  \n",
      "3  [muriel, and, her, husband, lee, are, about, t...  \n",
      "4  [a, stuntman, fresh, off, an, almost, career, ...  \n"
     ]
    }
   ],
   "source": [
    "import nltk\n",
    "nltk.download(\"wordnet\")\n",
    "nltk.download(\"omw-1.4\")   # optional, improves lemmatization\n",
    "\n",
    "\n",
    "\n",
    "from nltk.stem import WordNetLemmatizer\n",
    "lemma = WordNetLemmatizer()\n",
    "def lemmatize_tokens(tokens):\n",
    "    return [lemma.lemmatize(token) for token in tokens]\n",
    "df[\"Lemmatized_Tokens\"] = df[\"Tokens\"].apply(lemmatize_tokens)\n",
    "print(df[[\"Tokens\", \"Lemmatized_Tokens\"]].head(5))"
   ]
  },
  {
   "cell_type": "code",
   "execution_count": null,
   "id": "c91b40ee",
   "metadata": {},
   "outputs": [
    {
     "name": "stdout",
     "output_type": "stream",
     "text": [
      "                                             Summary  \\\n",
      "0  a young stripper from brooklyn meets and impul...   \n",
      "1  a high powered ceo puts her career and family ...   \n",
      "2  elphaba a young woman ridiculed for her green ...   \n",
      "3  muriel and her husband lee are about to begin ...   \n",
      "4  a stuntman fresh off an almost career ending a...   \n",
      "\n",
      "                                          Clean_Text  \n",
      "0  a young stripper from brooklyn meet and impuls...  \n",
      "1  a high powered ceo put her career and family o...  \n",
      "2  elphaba a young woman ridiculed for her green ...  \n",
      "3  muriel and her husband lee are about to begin ...  \n",
      "4  a stuntman fresh off an almost career ending a...  \n"
     ]
    }
   ],
   "source": [
    "#convert list of tokens back to string\n",
    "df[\"Clean_Text\"] = df[\"Lemmatized_Tokens\"].apply(lambda tokens: \" \".join(tokens))\n",
    "print(df[[\"Summary\", \"Clean_Text\"]].head(5))\n"
   ]
  },
  {
   "cell_type": "code",
   "execution_count": null,
   "id": "e2034e64",
   "metadata": {},
   "outputs": [
    {
     "name": "stdout",
     "output_type": "stream",
     "text": [
      "(350, 2484)\n"
     ]
    }
   ],
   "source": [
    "from sklearn.feature_extraction.text import TfidfVectorizer\n",
    "\n",
    "vectorizer = TfidfVectorizer()\n",
    "X = vectorizer.fit_transform(df[\"Clean_Text\"])\n",
    "print(X.shape)  # (num_documents, num_features)\n"
   ]
  },
  {
   "cell_type": "code",
   "execution_count": 21,
   "id": "12bb2059",
   "metadata": {},
   "outputs": [
    {
     "name": "stdout",
     "output_type": "stream",
     "text": [
      "['000' '100' '11' '11th' '13' '14' '14th' '15' '17' '18' '1800' '1870s'\n",
      " '19' '1919' '1926' '1928' '1950s' '1961' '1964' '1970' '1970s' '1975'\n",
      " '1978' '1980' '1980s' '1985' '1987' '1991' '1992' '1996' '20' '24' '25'\n",
      " '28th' '30pm' '39' '40' '50' '500' '68' '73' '80' '90' 'a380' 'aaron'\n",
      " 'abandon' 'abandoned' 'abbey' 'abbot' 'ability']\n"
     ]
    }
   ],
   "source": [
    "print(vectorizer.get_feature_names_out()[:50])  # first 50 words\n"
   ]
  },
  {
   "cell_type": "code",
   "execution_count": null,
   "id": "f5ea0453",
   "metadata": {},
   "outputs": [
    {
     "name": "stdout",
     "output_type": "stream",
     "text": [
      "Top 5 movies similar to: 1. Anora\n",
      "1. Anora  -->  Score: 1.000\n",
      "29. F*** Marry Kill  -->  Score: 0.116\n",
      "15. Spermageddon  -->  Score: 0.109\n",
      "5. Spermageddon  -->  Score: 0.109\n",
      "14. Doraemon the Movie: Nobita's Earth Symphony  -->  Score: 0.106\n"
     ]
    }
   ],
   "source": [
    "from sklearn.metrics.pairwise import cosine_similarity\n",
    "\n",
    "# Pairwise cosine similarity for all movies [eg:100 movies(100*100)]\n",
    "#compare every movie similar words to every other movies\n",
    "cosine_sim = cosine_similarity(X, X)\n",
    "\n",
    "# Example: similarity between 1st movie and others\n",
    "#cosine_sim[0] gives all similarity scores between movie 0 and every other movie.\n",
    "#[(0, 1.0), (1, 0.75), (2, 0.62), ...]\n",
    "similar_scores = list(enumerate(cosine_sim[0]))\n",
    "\n",
    "# Sort by similarity score (highest first)\n",
    "#This helps find the most similar movies to the one at index 0.\n",
    "similar_scores = sorted(similar_scores, key=lambda x: x[1], reverse=True)\n",
    "\n",
    "print(\"Top 5 movies similar to:\", df.iloc[0][\"Movie Name\"])\n",
    "#[1:6] skips the first result, which is always similarity with itself (score = 1.0)\n",
    "for idx, score in similar_scores[1:6]:  \n",
    "    print(f\"{df.iloc[idx]['Movie Name']}  -->  Score: {score:.3f}\")\n"
   ]
  },
  {
   "cell_type": "code",
   "execution_count": null,
   "id": "59596b7e",
   "metadata": {},
   "outputs": [],
   "source": []
  },
  {
   "cell_type": "code",
   "execution_count": 23,
   "id": "e0ed8689",
   "metadata": {},
   "outputs": [
    {
     "name": "stdout",
     "output_type": "stream",
     "text": [
      "\n",
      "Top 5 Recommended Movies:\n",
      "\n",
      "44. Girls Will Be Girls - Score: 0.217\n",
      "Storyline: At a strict boarding school nestled in the Himalayan foothills, 18-year-old Mira first discovers desire and romance. However, her curious, rebellious, coming-of-age is disrupted by her young mother, who never got to come of age herself.\n",
      "\n",
      "48. Gloria! - Score: 0.190\n",
      "Storyline: In 1800, at a girls' school in Venice, isolated and supposedly mute domestic servant Teresa discovers the joy that music can bring, teaming up with a group of talented girls.\n",
      "\n",
      "32. Elevation - Score: 0.173\n",
      "Storyline: A single father and two women venture from the safety of their homes to face monstrous creatures to save the life of a young boy.\n",
      "\n",
      "11. Sonic the Hedgehog 3 - Score: 0.119\n",
      "Storyline: Sonic, Knuckles, and Tails reunite against a powerful new adversary, Shadow, a mysterious villain with powers unlike anything they have faced before. With their abilities outmatched, Team Sonic must seek out an unlikely alliance.\n",
      "\n",
      "19. Sonic the Hedgehog 3 - Score: 0.119\n",
      "Storyline: Sonic, Knuckles, and Tails reunite against a powerful new adversary, Shadow, a mysterious villain with powers unlike anything they have faced before. With their abilities outmatched, Team Sonic must seek out an unlikely alliance.\n",
      "\n"
     ]
    },
    {
     "data": {
      "image/png": "[encoded data removed]",
      "text/plain": [
       "<Figure size 1000x600 with 1 Axes>"
      ]
     },
     "metadata": {},
     "output_type": "display_data"
    }
   ],
   "source": [
    "import pandas as pd\n",
    "import matplotlib.pyplot as plt\n",
    "from sklearn.feature_extraction.text import TfidfVectorizer\n",
    "from sklearn.metrics.pairwise import cosine_similarity\n",
    "\n",
    "# Load dataset\n",
    "df = pd.read_csv(\"genre_movies.csv\")\n",
    "\n",
    "# Vectorizer\n",
    "vectorizer = TfidfVectorizer(stop_words=\"english\")\n",
    "tfidf_matrix = vectorizer.fit_transform(df[\"Summary\"].fillna(\"\"))\n",
    "\n",
    "# Function to recommend movies\n",
    "def recommend_movies(user_input, top_n=5):\n",
    "    user_vec = vectorizer.transform([user_input])\n",
    "    similarity = cosine_similarity(user_vec, tfidf_matrix).flatten()\n",
    "    top_indices = similarity.argsort()[-top_n:][::-1]\n",
    "\n",
    "    results = df.iloc[top_indices][[\"Movie Name\", \"Summary\"]].copy()\n",
    "    results[\"Score\"] = similarity[top_indices]\n",
    "    return results\n",
    "\n",
    "\n",
    "# Example user input\n",
    "user_input = \"A young boy discovers he has magical powers and attends a school of wizardry.\"\n",
    "recommendations = recommend_movies(user_input)\n",
    "\n",
    "print(\"\\nTop 5 Recommended Movies:\\n\")\n",
    "for i, row in recommendations.iterrows():\n",
    "    print(f\"{row['Movie Name']} - Score: {row['Score']:.3f}\")\n",
    "    print(f\"Storyline: {row['Summary']}\\n\")\n",
    "\n",
    "# --- Visualization ---\n",
    "plt.figure(figsize=(10, 6))\n",
    "plt.barh(recommendations[\"Movie Name\"], recommendations[\"Score\"], color=\"skyblue\")\n",
    "plt.gca().invert_yaxis()  # highest score on top\n",
    "plt.title(\"Top 5 Recommended Movies\")\n",
    "plt.xlabel(\"Similarity Score\")\n",
    "plt.ylabel(\"Movie Name\")\n",
    "plt.show()\n"
   ]
  }
 ],
 "metadata": {
  "kernelspec": {
   "display_name": "venv",
   "language": "python",
   "name": "python3"
  },
  "language_info": {
   "codemirror_mode": {
    "name": "ipython",
    "version": 3
   },
   "file_extension": ".py",
   "mimetype": "text/x-python",
   "name": "python",
   "nbconvert_exporter": "python",
   "pygments_lexer": "ipython3",
   "version": "3.12.1"
  }
 },
 "nbformat": 4,
 "nbformat_minor": 5
}
